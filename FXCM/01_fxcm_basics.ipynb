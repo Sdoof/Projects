{
 "cells": [
  {
   "cell_type": "markdown",
   "metadata": {},
   "source": [
    "<img src=\"http://hilpisch.com/tpq_logo.png\" alt=\"The Python Quants\" width=\"35%\" align=\"right\" border=\"0\"><br>"
   ]
  },
  {
   "cell_type": "markdown",
   "metadata": {},
   "source": [
    "# ODSC &mdash; FXCM Basics"
   ]
  },
  {
   "cell_type": "markdown",
   "metadata": {},
   "source": [
    "## Risk Disclaimer"
   ]
  },
  {
   "cell_type": "markdown",
   "metadata": {},
   "source": [
    "Trading forex/CFDs on margin carries a high level of risk and may not be suitable for all investors as you could sustain losses in excess of deposits. Leverage can work against you. Due to the certain restrictions imposed by the local law and regulation, German resident retail client(s) could sustain a total loss of deposited funds but are not subject to subsequent payment obligations beyond the deposited funds. Be aware and fully understand all risks associated with the market and trading. Prior to trading any products, carefully consider your financial situation and experience level. Any opinions, news, research, analyses, prices, or other information is provided as general market commentary, and does not constitute investment advice. FXCM & TPQ will not accept liability for any loss or damage, including without limitation to, any loss of profit, which may arise directly or indirectly from use of or reliance on such information.\n"
   ]
  },
  {
   "cell_type": "markdown",
   "metadata": {},
   "source": [
    "## Speaker Disclaimer"
   ]
  },
  {
   "cell_type": "markdown",
   "metadata": {},
   "source": [
    "The speaker is neither an employee, agent nor representative of FXCM and is therefore acting independently. The opinions given are their own, constitute general market commentary, and do not constitute the opinion or advice of FXCM or any form of personal or investment advice. FXCM assumes no responsibility for any loss or damage, including but not limited to, any loss or gain arising out of the direct or indirect use of this or any other content. Trading forex/CFDs on margin carries a high level of risk and may not be suitable for all investors as you could sustain losses in excess of deposits."
   ]
  },
  {
   "cell_type": "markdown",
   "metadata": {},
   "source": [
    "## The Imports"
   ]
  },
  {
   "cell_type": "code",
   "execution_count": 1,
   "metadata": {},
   "outputs": [],
   "source": [
    "import numpy as np\n",
    "import pandas as pd\n",
    "import datetime as dt\n",
    "from pylab import plt\n",
    "plt.style.use('seaborn')\n",
    "%matplotlib inline"
   ]
  },
  {
   "cell_type": "markdown",
   "metadata": {},
   "source": [
    "## Retrieving Tick Data"
   ]
  },
  {
   "cell_type": "code",
   "execution_count": 2,
   "metadata": {},
   "outputs": [],
   "source": [
    "# from fxcmpy import fxcmpy_tick_data_reader as tdr"
   ]
  },
  {
   "cell_type": "code",
   "execution_count": 3,
   "metadata": {},
   "outputs": [],
   "source": [
    "# print(tdr.get_available_symbols())"
   ]
  },
  {
   "cell_type": "code",
   "execution_count": 4,
   "metadata": {},
   "outputs": [],
   "source": [
    "# start = dt.datetime(2018, 9, 4)\n",
    "# stop = dt.datetime(2018, 9, 5)"
   ]
  },
  {
   "cell_type": "code",
   "execution_count": 5,
   "metadata": {},
   "outputs": [],
   "source": [
    "# td = tdr('EURUSD', start, stop)"
   ]
  },
  {
   "cell_type": "code",
   "execution_count": 6,
   "metadata": {},
   "outputs": [],
   "source": [
    "# td.get_raw_data().info()"
   ]
  },
  {
   "cell_type": "code",
   "execution_count": 7,
   "metadata": {},
   "outputs": [],
   "source": [
    "# td.get_data().info()"
   ]
  },
  {
   "cell_type": "code",
   "execution_count": 8,
   "metadata": {},
   "outputs": [],
   "source": [
    "# td.get_data().head()"
   ]
  },
  {
   "cell_type": "markdown",
   "metadata": {},
   "source": [
    "## Retrieving Candles Data"
   ]
  },
  {
   "cell_type": "code",
   "execution_count": 9,
   "metadata": {},
   "outputs": [],
   "source": [
    "from fxcmpy import fxcmpy_candles_data_reader as cdr"
   ]
  },
  {
   "cell_type": "code",
   "execution_count": 10,
   "metadata": {},
   "outputs": [
    {
     "name": "stdout",
     "output_type": "stream",
     "text": [
      "('AUDCAD', 'AUDCHF', 'AUDJPY', 'AUDNZD', 'CADCHF', 'EURAUD', 'EURCHF', 'EURGBP', 'EURJPY', 'EURUSD', 'GBPCHF', 'GBPJPY', 'GBPNZD', 'GBPUSD', 'GBPCHF', 'GBPJPY', 'GBPNZD', 'NZDCAD', 'NZDCHF', 'NZDJPY', 'NZDUSD', 'USDCAD', 'USDCHF', 'USDJPY')\n"
     ]
    }
   ],
   "source": [
    "print(cdr.get_available_symbols())"
   ]
  },
  {
   "cell_type": "code",
   "execution_count": 11,
   "metadata": {},
   "outputs": [],
   "source": [
    "start = dt.datetime(2018, 5, 1)\n",
    "stop = dt.datetime(2018, 7, 6)"
   ]
  },
  {
   "cell_type": "markdown",
   "metadata": {},
   "source": [
    "`period` must be one of `m1`, `H1` or `D1`"
   ]
  },
  {
   "cell_type": "code",
   "execution_count": 12,
   "metadata": {},
   "outputs": [],
   "source": [
    "period = 'H1'"
   ]
  },
  {
   "cell_type": "code",
   "execution_count": 13,
   "metadata": {},
   "outputs": [],
   "source": [
    "candles = cdr('EURUSD', start, stop, period)"
   ]
  },
  {
   "cell_type": "code",
   "execution_count": 14,
   "metadata": {},
   "outputs": [],
   "source": [
    "data = candles.get_data()"
   ]
  },
  {
   "cell_type": "code",
   "execution_count": 15,
   "metadata": {},
   "outputs": [
    {
     "name": "stdout",
     "output_type": "stream",
     "text": [
      "<class 'pandas.core.frame.DataFrame'>\n",
      "DatetimeIndex: 1200 entries, 2018-04-29 21:00:00 to 2018-07-06 20:00:00\n",
      "Data columns (total 8 columns):\n",
      "BidOpen     1200 non-null float64\n",
      "BidHigh     1200 non-null float64\n",
      "BidLow      1200 non-null float64\n",
      "BidClose    1200 non-null float64\n",
      "AskOpen     1200 non-null float64\n",
      "AskHigh     1200 non-null float64\n",
      "AskLow      1200 non-null float64\n",
      "AskClose    1200 non-null float64\n",
      "dtypes: float64(8)\n",
      "memory usage: 84.4 KB\n"
     ]
    }
   ],
   "source": [
    "data.info()"
   ]
  },
  {
   "cell_type": "code",
   "execution_count": 16,
   "metadata": {},
   "outputs": [
    {
     "data": {
      "text/html": [
       "<div>\n",
       "<style scoped>\n",
       "    .dataframe tbody tr th:only-of-type {\n",
       "        vertical-align: middle;\n",
       "    }\n",
       "\n",
       "    .dataframe tbody tr th {\n",
       "        vertical-align: top;\n",
       "    }\n",
       "\n",
       "    .dataframe thead th {\n",
       "        text-align: right;\n",
       "    }\n",
       "</style>\n",
       "<table border=\"1\" class=\"dataframe\">\n",
       "  <thead>\n",
       "    <tr style=\"text-align: right;\">\n",
       "      <th></th>\n",
       "      <th>BidOpen</th>\n",
       "      <th>BidHigh</th>\n",
       "      <th>BidLow</th>\n",
       "      <th>BidClose</th>\n",
       "    </tr>\n",
       "  </thead>\n",
       "  <tbody>\n",
       "    <tr>\n",
       "      <th>2018-04-29 21:00:00</th>\n",
       "      <td>1.21226</td>\n",
       "      <td>1.21299</td>\n",
       "      <td>1.21226</td>\n",
       "      <td>1.21277</td>\n",
       "    </tr>\n",
       "    <tr>\n",
       "      <th>2018-04-29 22:00:00</th>\n",
       "      <td>1.21277</td>\n",
       "      <td>1.21287</td>\n",
       "      <td>1.21202</td>\n",
       "      <td>1.21215</td>\n",
       "    </tr>\n",
       "    <tr>\n",
       "      <th>2018-04-29 23:00:00</th>\n",
       "      <td>1.21215</td>\n",
       "      <td>1.21228</td>\n",
       "      <td>1.21190</td>\n",
       "      <td>1.21227</td>\n",
       "    </tr>\n",
       "    <tr>\n",
       "      <th>2018-04-30 00:00:00</th>\n",
       "      <td>1.21227</td>\n",
       "      <td>1.21319</td>\n",
       "      <td>1.21217</td>\n",
       "      <td>1.21286</td>\n",
       "    </tr>\n",
       "    <tr>\n",
       "      <th>2018-04-30 01:00:00</th>\n",
       "      <td>1.21286</td>\n",
       "      <td>1.21341</td>\n",
       "      <td>1.21214</td>\n",
       "      <td>1.21333</td>\n",
       "    </tr>\n",
       "  </tbody>\n",
       "</table>\n",
       "</div>"
      ],
      "text/plain": [
       "                     BidOpen  BidHigh   BidLow  BidClose\n",
       "2018-04-29 21:00:00  1.21226  1.21299  1.21226   1.21277\n",
       "2018-04-29 22:00:00  1.21277  1.21287  1.21202   1.21215\n",
       "2018-04-29 23:00:00  1.21215  1.21228  1.21190   1.21227\n",
       "2018-04-30 00:00:00  1.21227  1.21319  1.21217   1.21286\n",
       "2018-04-30 01:00:00  1.21286  1.21341  1.21214   1.21333"
      ]
     },
     "execution_count": 16,
     "metadata": {},
     "output_type": "execute_result"
    }
   ],
   "source": [
    "data[data.columns[:4]].head()"
   ]
  },
  {
   "cell_type": "code",
   "execution_count": 17,
   "metadata": {},
   "outputs": [
    {
     "data": {
      "text/html": [
       "<div>\n",
       "<style scoped>\n",
       "    .dataframe tbody tr th:only-of-type {\n",
       "        vertical-align: middle;\n",
       "    }\n",
       "\n",
       "    .dataframe tbody tr th {\n",
       "        vertical-align: top;\n",
       "    }\n",
       "\n",
       "    .dataframe thead th {\n",
       "        text-align: right;\n",
       "    }\n",
       "</style>\n",
       "<table border=\"1\" class=\"dataframe\">\n",
       "  <thead>\n",
       "    <tr style=\"text-align: right;\">\n",
       "      <th></th>\n",
       "      <th>AskOpen</th>\n",
       "      <th>AskHigh</th>\n",
       "      <th>AskLow</th>\n",
       "      <th>AskClose</th>\n",
       "    </tr>\n",
       "  </thead>\n",
       "  <tbody>\n",
       "    <tr>\n",
       "      <th>2018-04-29 21:00:00</th>\n",
       "      <td>1.21249</td>\n",
       "      <td>1.21311</td>\n",
       "      <td>1.21248</td>\n",
       "      <td>1.21289</td>\n",
       "    </tr>\n",
       "    <tr>\n",
       "      <th>2018-04-29 22:00:00</th>\n",
       "      <td>1.21289</td>\n",
       "      <td>1.21291</td>\n",
       "      <td>1.21203</td>\n",
       "      <td>1.21217</td>\n",
       "    </tr>\n",
       "    <tr>\n",
       "      <th>2018-04-29 23:00:00</th>\n",
       "      <td>1.21217</td>\n",
       "      <td>1.21230</td>\n",
       "      <td>1.21190</td>\n",
       "      <td>1.21228</td>\n",
       "    </tr>\n",
       "    <tr>\n",
       "      <th>2018-04-30 00:00:00</th>\n",
       "      <td>1.21228</td>\n",
       "      <td>1.21321</td>\n",
       "      <td>1.21218</td>\n",
       "      <td>1.21288</td>\n",
       "    </tr>\n",
       "    <tr>\n",
       "      <th>2018-04-30 01:00:00</th>\n",
       "      <td>1.21288</td>\n",
       "      <td>1.21343</td>\n",
       "      <td>1.21216</td>\n",
       "      <td>1.21334</td>\n",
       "    </tr>\n",
       "  </tbody>\n",
       "</table>\n",
       "</div>"
      ],
      "text/plain": [
       "                     AskOpen  AskHigh   AskLow  AskClose\n",
       "2018-04-29 21:00:00  1.21249  1.21311  1.21248   1.21289\n",
       "2018-04-29 22:00:00  1.21289  1.21291  1.21203   1.21217\n",
       "2018-04-29 23:00:00  1.21217  1.21230  1.21190   1.21228\n",
       "2018-04-30 00:00:00  1.21228  1.21321  1.21218   1.21288\n",
       "2018-04-30 01:00:00  1.21288  1.21343  1.21216   1.21334"
      ]
     },
     "execution_count": 17,
     "metadata": {},
     "output_type": "execute_result"
    }
   ],
   "source": [
    "data[data.columns[4:]].head()"
   ]
  },
  {
   "cell_type": "code",
   "execution_count": 18,
   "metadata": {},
   "outputs": [],
   "source": [
    "data['MidClose'] = data[['BidClose', 'AskClose']].mean(axis=1)"
   ]
  },
  {
   "cell_type": "code",
   "execution_count": 19,
   "metadata": {},
   "outputs": [],
   "source": [
    "data['SMA1'] = data['MidClose'].rolling(30).mean()\n",
    "data['SMA2'] = data['MidClose'].rolling(100).mean()"
   ]
  },
  {
   "cell_type": "code",
   "execution_count": 20,
   "metadata": {},
   "outputs": [
    {
     "data": {
      "image/png": "[encoded data removed]",
      "text/plain": [
       "<Figure size 720x432 with 1 Axes>"
      ]
     },
     "metadata": {
      "needs_background": "light"
     },
     "output_type": "display_data"
    }
   ],
   "source": [
    "data[['MidClose', 'SMA1', 'SMA2']].plot(figsize=(10, 6));"
   ]
  },
  {
   "cell_type": "markdown",
   "metadata": {},
   "source": [
    "## Connecting to the API"
   ]
  },
  {
   "cell_type": "code",
   "execution_count": 21,
   "metadata": {},
   "outputs": [],
   "source": [
    "import fxcmpy"
   ]
  },
  {
   "cell_type": "code",
   "execution_count": 22,
   "metadata": {},
   "outputs": [
    {
     "data": {
      "text/plain": [
       "'1.1.28'"
      ]
     },
     "execution_count": 22,
     "metadata": {},
     "output_type": "execute_result"
    }
   ],
   "source": [
    "fxcmpy.__version__"
   ]
  },
  {
   "cell_type": "code",
   "execution_count": 23,
   "metadata": {},
   "outputs": [],
   "source": [
    "api = fxcmpy.fxcmpy(config_file='../fxcm.cfg')  # adjust path/filename"
   ]
  },
  {
   "cell_type": "code",
   "execution_count": 24,
   "metadata": {},
   "outputs": [],
   "source": [
    "instruments = api.get_instruments()"
   ]
  },
  {
   "cell_type": "code",
   "execution_count": 25,
   "metadata": {},
   "outputs": [
    {
     "name": "stdout",
     "output_type": "stream",
     "text": [
      "['EUR/USD', 'XAU/USD', 'GBP/USD', 'UK100', 'USDOLLAR', 'XAG/USD', 'GER30', 'FRA40', 'USD/CNH', 'EUR/JPY', 'USD/JPY', 'CHN50', 'GBP/JPY', 'AUD/JPY', 'CHF/JPY', 'USD/CHF', 'GBP/CHF', 'AUD/USD', 'EUR/AUD', 'EUR/CHF', 'EUR/CAD', 'EUR/GBP', 'AUD/CAD', 'NZD/USD', 'USD/CAD', 'CAD/JPY', 'GBP/AUD', 'NZD/JPY', 'US30', 'GBP/CAD', 'SOYF', 'GBP/NZD', 'AUD/NZD', 'USD/SEK', 'EUR/SEK', 'EUR/NOK', 'USD/NOK', 'USD/MXN', 'AUD/CHF', 'EUR/NZD', 'USD/ZAR', 'USD/HKD', 'ZAR/JPY', 'USD/TRY', 'EUR/TRY', 'NZD/CHF', 'CAD/CHF', 'NZD/CAD', 'TRY/JPY', 'AUS200', 'ESP35', 'HKG33', 'JPN225', 'NAS100', 'SPX500', 'Copper', 'EUSTX50', 'USOil', 'UKOil', 'NGAS', 'Bund']\n"
     ]
    }
   ],
   "source": [
    "print(instruments)"
   ]
  },
  {
   "cell_type": "markdown",
   "metadata": {},
   "source": [
    "## Retrieving Historical Data"
   ]
  },
  {
   "cell_type": "code",
   "execution_count": 26,
   "metadata": {},
   "outputs": [],
   "source": [
    "start = dt.datetime(2017, 1, 1) \n",
    "end = dt.datetime(2018, 1, 1)"
   ]
  },
  {
   "cell_type": "code",
   "execution_count": 27,
   "metadata": {},
   "outputs": [],
   "source": [
    "candles = api.get_candles('EUR/USD', period='D1',\n",
    "                         start=start, stop=end)"
   ]
  },
  {
   "cell_type": "code",
   "execution_count": 28,
   "metadata": {},
   "outputs": [
    {
     "name": "stdout",
     "output_type": "stream",
     "text": [
      "<class 'pandas.core.frame.DataFrame'>\n",
      "DatetimeIndex: 309 entries, 2017-01-03 22:00:00 to 2018-01-01 22:00:00\n",
      "Data columns (total 9 columns):\n",
      "bidopen     309 non-null float64\n",
      "bidclose    309 non-null float64\n",
      "bidhigh     309 non-null float64\n",
      "bidlow      309 non-null float64\n",
      "askopen     309 non-null float64\n",
      "askclose    309 non-null float64\n",
      "askhigh     309 non-null float64\n",
      "asklow      309 non-null float64\n",
      "tickqty     309 non-null int64\n",
      "dtypes: float64(8), int64(1)\n",
      "memory usage: 24.1 KB\n"
     ]
    }
   ],
   "source": [
    "candles.info()"
   ]
  },
  {
   "cell_type": "markdown",
   "metadata": {},
   "source": [
    "The parameter `period` must be one of `m1, m5, m15, m30, H1, H2, H3, H4, H6, H8, D1, W1` or `M1`."
   ]
  },
  {
   "cell_type": "code",
   "execution_count": 29,
   "metadata": {},
   "outputs": [],
   "source": [
    "candles = api.get_candles('EUR/USD', period='m1', number=250)"
   ]
  },
  {
   "cell_type": "code",
   "execution_count": 31,
   "metadata": {},
   "outputs": [
    {
     "name": "stdout",
     "output_type": "stream",
     "text": [
      "<class 'pandas.core.frame.DataFrame'>\n",
      "DatetimeIndex: 250 entries, 2018-09-20 06:48:00 to 2018-09-20 10:57:00\n",
      "Data columns (total 9 columns):\n",
      "bidopen     250 non-null float64\n",
      "bidclose    250 non-null float64\n",
      "bidhigh     250 non-null float64\n",
      "bidlow      250 non-null float64\n",
      "askopen     250 non-null float64\n",
      "askclose    250 non-null float64\n",
      "askhigh     250 non-null float64\n",
      "asklow      250 non-null float64\n",
      "tickqty     250 non-null int64\n",
      "dtypes: float64(8), int64(1)\n",
      "memory usage: 19.5 KB\n"
     ]
    }
   ],
   "source": [
    "candles.info()"
   ]
  },
  {
   "cell_type": "code",
   "execution_count": 30,
   "metadata": {},
   "outputs": [
    {
     "data": {
      "image/png": "[encoded data removed]",
      "text/plain": [
       "<Figure size 720x432 with 1 Axes>"
      ]
     },
     "metadata": {
      "needs_background": "light"
     },
     "output_type": "display_data"
    }
   ],
   "source": [
    "candles['askclose'].plot(figsize=(10, 6));"
   ]
  },
  {
   "cell_type": "markdown",
   "metadata": {},
   "source": [
    "## Streaming Data"
   ]
  },
  {
   "cell_type": "code",
   "execution_count": 32,
   "metadata": {},
   "outputs": [],
   "source": [
    "def output(data, dataframe):\n",
    "    print('%3d | %s | %s | %6.5f, %6.5f' \n",
    "          % (len(dataframe), data['Symbol'],\n",
    "             pd.to_datetime(int(data['Updated']), unit='ms'), \n",
    "             data['Rates'][0], data['Rates'][1]))"
   ]
  },
  {
   "cell_type": "code",
   "execution_count": 33,
   "metadata": {},
   "outputs": [
    {
     "name": "stdout",
     "output_type": "stream",
     "text": [
      "  1 | EUR/USD | 2018-09-20 10:59:50.550000 | 1.17194, 1.17207\n",
      "  2 | EUR/USD | 2018-09-20 10:59:50.986000 | 1.17196, 1.17208\n",
      "  3 | EUR/USD | 2018-09-20 10:59:51.642000 | 1.17195, 1.17207\n",
      "  4 | EUR/USD | 2018-09-20 10:59:52.024000 | 1.17195, 1.17208\n",
      "  5 | EUR/USD | 2018-09-20 10:59:53.410000 | 1.17196, 1.17208\n",
      "  6 | EUR/USD | 2018-09-20 10:59:54.276000 | 1.17195, 1.17208\n",
      "  7 | EUR/USD | 2018-09-20 10:59:55.657000 | 1.17197, 1.17209\n",
      "  8 | EUR/USD | 2018-09-20 10:59:56.611000 | 1.17196, 1.17209\n",
      "  9 | EUR/USD | 2018-09-20 10:59:56.981000 | 1.17196, 1.17209\n",
      " 10 | EUR/USD | 2018-09-20 10:59:57.657000 | 1.17197, 1.17210\n",
      " 11 | EUR/USD | 2018-09-20 10:59:58.182000 | 1.17200, 1.17211\n",
      " 12 | EUR/USD | 2018-09-20 10:59:58.680000 | 1.17202, 1.17213\n",
      " 13 | EUR/USD | 2018-09-20 10:59:59.011000 | 1.17201, 1.17213\n",
      " 14 | EUR/USD | 2018-09-20 10:59:59.356000 | 1.17201, 1.17213\n",
      " 15 | EUR/USD | 2018-09-20 11:00:00.170000 | 1.17200, 1.17212\n",
      " 16 | EUR/USD | 2018-09-20 11:00:00.986000 | 1.17197, 1.17209\n",
      " 17 | EUR/USD | 2018-09-20 11:00:01.695000 | 1.17199, 1.17210\n",
      " 18 | EUR/USD | 2018-09-20 11:00:02.183000 | 1.17197, 1.17210\n"
     ]
    }
   ],
   "source": [
    "api.subscribe_market_data('EUR/USD', (output,))"
   ]
  },
  {
   "cell_type": "code",
   "execution_count": 34,
   "metadata": {},
   "outputs": [
    {
     "data": {
      "text/plain": [
       "Bid     1.17197\n",
       "Ask     1.17210\n",
       "High    1.17214\n",
       "Low     1.16682\n",
       "Name: 2018-09-20 11:00:02.183000, dtype: float64"
      ]
     },
     "execution_count": 34,
     "metadata": {},
     "output_type": "execute_result"
    },
    {
     "name": "stdout",
     "output_type": "stream",
     "text": [
      " 19 | EUR/USD | 2018-09-20 11:00:02.696000 | 1.17197, 1.17209\n",
      " 20 | EUR/USD | 2018-09-20 11:00:02.807000 | 1.17197, 1.17209\n",
      " 21 | EUR/USD | 2018-09-20 11:00:03.705000 | 1.17197, 1.17208\n",
      " 22 | EUR/USD | 2018-09-20 11:00:04.053000 | 1.17198, 1.17209\n",
      " 23 | EUR/USD | 2018-09-20 11:00:04.608000 | 1.17198, 1.17211\n",
      " 24 | EUR/USD | 2018-09-20 11:00:05.187000 | 1.17199, 1.17211\n",
      " 25 | EUR/USD | 2018-09-20 11:00:05.646000 | 1.17200, 1.17212\n",
      " 26 | EUR/USD | 2018-09-20 11:00:06.165000 | 1.17198, 1.17211\n",
      " 27 | EUR/USD | 2018-09-20 11:00:06.497000 | 1.17198, 1.17210\n",
      " 28 | EUR/USD | 2018-09-20 11:00:07.208000 | 1.17199, 1.17210\n",
      " 29 | EUR/USD | 2018-09-20 11:00:07.521000 | 1.17196, 1.17208\n",
      " 30 | EUR/USD | 2018-09-20 11:00:09.207000 | 1.17198, 1.17211\n",
      " 31 | EUR/USD | 2018-09-20 11:00:09.496000 | 1.17199, 1.17211\n",
      " 32 | EUR/USD | 2018-09-20 11:00:10.118000 | 1.17199, 1.17212\n",
      " 33 | EUR/USD | 2018-09-20 11:00:10.705000 | 1.17196, 1.17209\n",
      " 34 | EUR/USD | 2018-09-20 11:00:11.125000 | 1.17197, 1.17209\n"
     ]
    }
   ],
   "source": [
    "api.get_last_price('EUR/USD')"
   ]
  },
  {
   "cell_type": "code",
   "execution_count": 35,
   "metadata": {},
   "outputs": [
    {
     "name": "stdout",
     "output_type": "stream",
     "text": [
      " 35 | EUR/USD | 2018-09-20 11:00:11.581000 | 1.17196, 1.17208\n",
      " 36 | EUR/USD | 2018-09-20 11:00:11.771000 | 1.17196, 1.17209\n"
     ]
    }
   ],
   "source": [
    "api.unsubscribe_market_data('EUR/USD') "
   ]
  },
  {
   "cell_type": "markdown",
   "metadata": {},
   "source": [
    "## Placing Orders"
   ]
  },
  {
   "cell_type": "code",
   "execution_count": 37,
   "metadata": {},
   "outputs": [
    {
     "data": {
      "text/html": [
       "<div>\n",
       "<style scoped>\n",
       "    .dataframe tbody tr th:only-of-type {\n",
       "        vertical-align: middle;\n",
       "    }\n",
       "\n",
       "    .dataframe tbody tr th {\n",
       "        vertical-align: top;\n",
       "    }\n",
       "\n",
       "    .dataframe thead th {\n",
       "        text-align: right;\n",
       "    }\n",
       "</style>\n",
       "<table border=\"1\" class=\"dataframe\">\n",
       "  <thead>\n",
       "    <tr style=\"text-align: right;\">\n",
       "      <th></th>\n",
       "    </tr>\n",
       "  </thead>\n",
       "  <tbody>\n",
       "  </tbody>\n",
       "</table>\n",
       "</div>"
      ],
      "text/plain": [
       "Empty DataFrame\n",
       "Columns: []\n",
       "Index: []"
      ]
     },
     "execution_count": 37,
     "metadata": {},
     "output_type": "execute_result"
    }
   ],
   "source": [
    "api.get_open_positions()"
   ]
  },
  {
   "cell_type": "code",
   "execution_count": 38,
   "metadata": {},
   "outputs": [],
   "source": [
    "order = api.create_market_buy_order('EUR/USD', 10)"
   ]
  },
  {
   "cell_type": "code",
   "execution_count": 39,
   "metadata": {},
   "outputs": [],
   "source": [
    "sel = ['tradeId', 'amountK', 'currency',\n",
    "       'grossPL', 'isBuy']"
   ]
  },
  {
   "cell_type": "code",
   "execution_count": 40,
   "metadata": {},
   "outputs": [
    {
     "data": {
      "text/html": [
       "<div>\n",
       "<style scoped>\n",
       "    .dataframe tbody tr th:only-of-type {\n",
       "        vertical-align: middle;\n",
       "    }\n",
       "\n",
       "    .dataframe tbody tr th {\n",
       "        vertical-align: top;\n",
       "    }\n",
       "\n",
       "    .dataframe thead th {\n",
       "        text-align: right;\n",
       "    }\n",
       "</style>\n",
       "<table border=\"1\" class=\"dataframe\">\n",
       "  <thead>\n",
       "    <tr style=\"text-align: right;\">\n",
       "      <th></th>\n",
       "      <th>tradeId</th>\n",
       "      <th>amountK</th>\n",
       "      <th>currency</th>\n",
       "      <th>grossPL</th>\n",
       "      <th>isBuy</th>\n",
       "    </tr>\n",
       "  </thead>\n",
       "  <tbody>\n",
       "    <tr>\n",
       "      <th>0</th>\n",
       "      <td>130986397</td>\n",
       "      <td>10</td>\n",
       "      <td>EUR/USD</td>\n",
       "      <td>-1.28022</td>\n",
       "      <td>True</td>\n",
       "    </tr>\n",
       "  </tbody>\n",
       "</table>\n",
       "</div>"
      ],
      "text/plain": [
       "     tradeId  amountK currency  grossPL  isBuy\n",
       "0  130986397       10  EUR/USD -1.28022   True"
      ]
     },
     "execution_count": 40,
     "metadata": {},
     "output_type": "execute_result"
    }
   ],
   "source": [
    "api.get_open_positions()[sel]"
   ]
  },
  {
   "cell_type": "code",
   "execution_count": 41,
   "metadata": {},
   "outputs": [],
   "source": [
    "order = api.create_market_buy_order('EUR/USD', 5)"
   ]
  },
  {
   "cell_type": "code",
   "execution_count": 42,
   "metadata": {},
   "outputs": [
    {
     "data": {
      "text/html": [
       "<div>\n",
       "<style scoped>\n",
       "    .dataframe tbody tr th:only-of-type {\n",
       "        vertical-align: middle;\n",
       "    }\n",
       "\n",
       "    .dataframe tbody tr th {\n",
       "        vertical-align: top;\n",
       "    }\n",
       "\n",
       "    .dataframe thead th {\n",
       "        text-align: right;\n",
       "    }\n",
       "</style>\n",
       "<table border=\"1\" class=\"dataframe\">\n",
       "  <thead>\n",
       "    <tr style=\"text-align: right;\">\n",
       "      <th></th>\n",
       "      <th>tradeId</th>\n",
       "      <th>amountK</th>\n",
       "      <th>currency</th>\n",
       "      <th>grossPL</th>\n",
       "      <th>isBuy</th>\n",
       "    </tr>\n",
       "  </thead>\n",
       "  <tbody>\n",
       "    <tr>\n",
       "      <th>0</th>\n",
       "      <td>130986397</td>\n",
       "      <td>10</td>\n",
       "      <td>EUR/USD</td>\n",
       "      <td>-1.36558</td>\n",
       "      <td>True</td>\n",
       "    </tr>\n",
       "    <tr>\n",
       "      <th>1</th>\n",
       "      <td>130986410</td>\n",
       "      <td>5</td>\n",
       "      <td>EUR/USD</td>\n",
       "      <td>-0.46942</td>\n",
       "      <td>True</td>\n",
       "    </tr>\n",
       "  </tbody>\n",
       "</table>\n",
       "</div>"
      ],
      "text/plain": [
       "     tradeId  amountK currency  grossPL  isBuy\n",
       "0  130986397       10  EUR/USD -1.36558   True\n",
       "1  130986410        5  EUR/USD -0.46942   True"
      ]
     },
     "execution_count": 42,
     "metadata": {},
     "output_type": "execute_result"
    }
   ],
   "source": [
    "api.get_open_positions()[sel]"
   ]
  },
  {
   "cell_type": "code",
   "execution_count": 43,
   "metadata": {},
   "outputs": [],
   "source": [
    "order = api.create_market_sell_order('EUR/USD', 7)"
   ]
  },
  {
   "cell_type": "code",
   "execution_count": 44,
   "metadata": {},
   "outputs": [
    {
     "data": {
      "text/html": [
       "<div>\n",
       "<style scoped>\n",
       "    .dataframe tbody tr th:only-of-type {\n",
       "        vertical-align: middle;\n",
       "    }\n",
       "\n",
       "    .dataframe tbody tr th {\n",
       "        vertical-align: top;\n",
       "    }\n",
       "\n",
       "    .dataframe thead th {\n",
       "        text-align: right;\n",
       "    }\n",
       "</style>\n",
       "<table border=\"1\" class=\"dataframe\">\n",
       "  <thead>\n",
       "    <tr style=\"text-align: right;\">\n",
       "      <th></th>\n",
       "      <th>tradeId</th>\n",
       "      <th>amountK</th>\n",
       "      <th>currency</th>\n",
       "      <th>grossPL</th>\n",
       "      <th>isBuy</th>\n",
       "    </tr>\n",
       "  </thead>\n",
       "  <tbody>\n",
       "    <tr>\n",
       "      <th>0</th>\n",
       "      <td>130986397</td>\n",
       "      <td>10</td>\n",
       "      <td>EUR/USD</td>\n",
       "      <td>-0.25602</td>\n",
       "      <td>True</td>\n",
       "    </tr>\n",
       "    <tr>\n",
       "      <th>1</th>\n",
       "      <td>130986410</td>\n",
       "      <td>5</td>\n",
       "      <td>EUR/USD</td>\n",
       "      <td>0.08534</td>\n",
       "      <td>True</td>\n",
       "    </tr>\n",
       "    <tr>\n",
       "      <th>2</th>\n",
       "      <td>130986416</td>\n",
       "      <td>7</td>\n",
       "      <td>EUR/USD</td>\n",
       "      <td>-1.07516</td>\n",
       "      <td>False</td>\n",
       "    </tr>\n",
       "  </tbody>\n",
       "</table>\n",
       "</div>"
      ],
      "text/plain": [
       "     tradeId  amountK currency  grossPL  isBuy\n",
       "0  130986397       10  EUR/USD -0.25602   True\n",
       "1  130986410        5  EUR/USD  0.08534   True\n",
       "2  130986416        7  EUR/USD -1.07516  False"
      ]
     },
     "execution_count": 44,
     "metadata": {},
     "output_type": "execute_result"
    }
   ],
   "source": [
    "api.get_open_positions()[sel]"
   ]
  },
  {
   "cell_type": "code",
   "execution_count": 45,
   "metadata": {},
   "outputs": [],
   "source": [
    "# api.close_all()"
   ]
  },
  {
   "cell_type": "code",
   "execution_count": 46,
   "metadata": {},
   "outputs": [],
   "source": [
    "api.close_all_for_symbol('EUR/USD')"
   ]
  },
  {
   "cell_type": "code",
   "execution_count": 47,
   "metadata": {},
   "outputs": [
    {
     "data": {
      "text/html": [
       "<div>\n",
       "<style scoped>\n",
       "    .dataframe tbody tr th:only-of-type {\n",
       "        vertical-align: middle;\n",
       "    }\n",
       "\n",
       "    .dataframe tbody tr th {\n",
       "        vertical-align: top;\n",
       "    }\n",
       "\n",
       "    .dataframe thead th {\n",
       "        text-align: right;\n",
       "    }\n",
       "</style>\n",
       "<table border=\"1\" class=\"dataframe\">\n",
       "  <thead>\n",
       "    <tr style=\"text-align: right;\">\n",
       "      <th></th>\n",
       "    </tr>\n",
       "  </thead>\n",
       "  <tbody>\n",
       "  </tbody>\n",
       "</table>\n",
       "</div>"
      ],
      "text/plain": [
       "Empty DataFrame\n",
       "Columns: []\n",
       "Index: []"
      ]
     },
     "execution_count": 47,
     "metadata": {},
     "output_type": "execute_result"
    }
   ],
   "source": [
    "api.get_open_positions()"
   ]
  },
  {
   "cell_type": "markdown",
   "metadata": {},
   "source": [
    "## Account Information"
   ]
  },
  {
   "cell_type": "code",
   "execution_count": 48,
   "metadata": {},
   "outputs": [
    {
     "data": {
      "text/plain": [
       "1090495"
      ]
     },
     "execution_count": 48,
     "metadata": {},
     "output_type": "execute_result"
    }
   ],
   "source": [
    "api.get_default_account()"
   ]
  },
  {
   "cell_type": "code",
   "execution_count": 49,
   "metadata": {},
   "outputs": [
    {
     "data": {
      "text/html": [
       "<div>\n",
       "<style scoped>\n",
       "    .dataframe tbody tr th:only-of-type {\n",
       "        vertical-align: middle;\n",
       "    }\n",
       "\n",
       "    .dataframe tbody tr th {\n",
       "        vertical-align: top;\n",
       "    }\n",
       "\n",
       "    .dataframe thead th {\n",
       "        text-align: right;\n",
       "    }\n",
       "</style>\n",
       "<table border=\"1\" class=\"dataframe\">\n",
       "  <thead>\n",
       "    <tr style=\"text-align: right;\">\n",
       "      <th></th>\n",
       "      <th>0</th>\n",
       "    </tr>\n",
       "  </thead>\n",
       "  <tbody>\n",
       "    <tr>\n",
       "      <th>accountId</th>\n",
       "      <td>1090495</td>\n",
       "    </tr>\n",
       "    <tr>\n",
       "      <th>accountName</th>\n",
       "      <td>01090495</td>\n",
       "    </tr>\n",
       "    <tr>\n",
       "      <th>balance</th>\n",
       "      <td>4959.29</td>\n",
       "    </tr>\n",
       "    <tr>\n",
       "      <th>dayPL</th>\n",
       "      <td>-1.28</td>\n",
       "    </tr>\n",
       "    <tr>\n",
       "      <th>equity</th>\n",
       "      <td>4959.29</td>\n",
       "    </tr>\n",
       "    <tr>\n",
       "      <th>grossPL</th>\n",
       "      <td>0</td>\n",
       "    </tr>\n",
       "    <tr>\n",
       "      <th>hedging</th>\n",
       "      <td>Y</td>\n",
       "    </tr>\n",
       "    <tr>\n",
       "      <th>mc</th>\n",
       "      <td>N</td>\n",
       "    </tr>\n",
       "    <tr>\n",
       "      <th>mcDate</th>\n",
       "      <td></td>\n",
       "    </tr>\n",
       "    <tr>\n",
       "      <th>ratePrecision</th>\n",
       "      <td>0</td>\n",
       "    </tr>\n",
       "    <tr>\n",
       "      <th>t</th>\n",
       "      <td>6</td>\n",
       "    </tr>\n",
       "    <tr>\n",
       "      <th>usableMargin</th>\n",
       "      <td>4959.29</td>\n",
       "    </tr>\n",
       "    <tr>\n",
       "      <th>usableMargin3</th>\n",
       "      <td>4959.29</td>\n",
       "    </tr>\n",
       "    <tr>\n",
       "      <th>usableMargin3Perc</th>\n",
       "      <td>100</td>\n",
       "    </tr>\n",
       "    <tr>\n",
       "      <th>usableMarginPerc</th>\n",
       "      <td>100</td>\n",
       "    </tr>\n",
       "    <tr>\n",
       "      <th>usdMr</th>\n",
       "      <td>0</td>\n",
       "    </tr>\n",
       "    <tr>\n",
       "      <th>usdMr3</th>\n",
       "      <td>0</td>\n",
       "    </tr>\n",
       "  </tbody>\n",
       "</table>\n",
       "</div>"
      ],
      "text/plain": [
       "                          0\n",
       "accountId           1090495\n",
       "accountName        01090495\n",
       "balance             4959.29\n",
       "dayPL                 -1.28\n",
       "equity              4959.29\n",
       "grossPL                   0\n",
       "hedging                   Y\n",
       "mc                        N\n",
       "mcDate                     \n",
       "ratePrecision             0\n",
       "t                         6\n",
       "usableMargin        4959.29\n",
       "usableMargin3       4959.29\n",
       "usableMargin3Perc       100\n",
       "usableMarginPerc        100\n",
       "usdMr                     0\n",
       "usdMr3                    0"
      ]
     },
     "execution_count": 49,
     "metadata": {},
     "output_type": "execute_result"
    }
   ],
   "source": [
    "api.get_accounts().T"
   ]
  },
  {
   "cell_type": "markdown",
   "metadata": {},
   "source": [
    "<img src=\"http://hilpisch.com/tpq_logo.png\" alt=\"The Python Quants\" width=\"35%\" align=\"right\" border=\"0\"><br>\n",
    "\n",
    "<a href=\"http://tpq.io\" target=\"_blank\">http://tpq.io</a> | <a href=\"http://twitter.com/dyjh\" target=\"_blank\">@dyjh</a> | <a href=\"mailto:training@tpq.io\">training@tpq.io</a>"
   ]
  }
 ],
 "metadata": {
  "kernelspec": {
   "display_name": "Python 3",
   "language": "python",
   "name": "python3"
  },
  "language_info": {
   "codemirror_mode": {
    "name": "ipython",
    "version": 3
   },
   "file_extension": ".py",
   "mimetype": "text/x-python",
   "name": "python",
   "nbconvert_exporter": "python",
   "pygments_lexer": "ipython3",
   "version": "3.6.6"
  }
 },
 "nbformat": 4,
 "nbformat_minor": 2
}
